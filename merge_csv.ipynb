{
 "cells": [
  {
   "cell_type": "code",
   "execution_count": 46,
   "metadata": {},
   "outputs": [],
   "source": [
    "import os\n",
    "import pandas as pd\n",
    "\n",
    "def combine_csv_files(input_folder, output_file):\n",
    "    # List all files in the folder\n",
    "    files = [f for f in os.listdir(input_folder) if f.endswith('.csv')]\n",
    "    \n",
    "    # Sort files if needed (optional)\n",
    "    files.sort()\n",
    "    print(files.sort())\n",
    "\n",
    "    # Create an empty list to hold dataframes\n",
    "    df_list = []\n",
    "\n",
    "\n",
    "    # Loop through the files\n",
    "    for i, file in enumerate(files):\n",
    "        # Read each csv file\n",
    "        file_path = os.path.join(input_folder, file)\n",
    "        df = pd.read_csv(file_path)\n",
    "        \n",
    "        # For the first file, keep the header\n",
    "        if i == 0:\n",
    "            df_list.append(df)\n",
    "        else:\n",
    "            # For subsequent files, append without the header\n",
    "            df_list.append(df.iloc[0:])\n",
    "    \n",
    "    # Concatenate all dataframes\n",
    "    combined_df = pd.concat(df_list, ignore_index=True)\n",
    "    \n",
    "    # Write the result to a new output csv file\n",
    "    combined_df.to_csv(output_file, index=False)\n",
    "\n"
   ]
  }
 ],
 "metadata": {
  "kernelspec": {
   "display_name": "spatial_env",
   "language": "python",
   "name": "python3"
  },
  "language_info": {
   "codemirror_mode": {
    "name": "ipython",
    "version": 3
   },
   "file_extension": ".py",
   "mimetype": "text/x-python",
   "name": "python",
   "nbconvert_exporter": "python",
   "pygments_lexer": "ipython3",
   "version": "3.12.7"
  }
 },
 "nbformat": 4,
 "nbformat_minor": 2
}
