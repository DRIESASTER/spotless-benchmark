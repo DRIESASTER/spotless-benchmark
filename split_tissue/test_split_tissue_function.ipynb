{
 "cells": [
  {
   "cell_type": "code",
   "execution_count": 13,
   "metadata": {},
   "outputs": [],
   "source": [
    "import pandas as pd\n",
    "import numpy as np\n",
    "import scanpy as sc \n",
    "import matplotlib.pyplot as plt\n",
    "import os\n",
    "import argparse\n",
    "\n",
    "def split_tissue(input_pipeline, spatial_coords, n, figure=True, output_dir='output_files'):\n",
    "    ''' \n",
    "        Splits tissue samples into a grid of n*n parts based on the spatial coordinates of the spots. \n",
    "        This function generates n*n AnnData objects, an updated AnnData object with assigned parts, a CSV file containing the spots in each part, and optionally a figure showing the distribution of spots across the parts.\n",
    "\n",
    "        Args:\n",
    "            input_pipeline (str): File path to an AnnData object stored in .h5ad format, containing data for the spots.\n",
    "            spatial_coords (str): File path to a CSV file with 6 columns: 'spot_id', 'tissue', 'x0', 'y0', 'x', 'y', which define the spatial coordinates of the spots.\n",
    "            n (int): The number of divisions per dimension, with the tissue being split into an n*n grid of parts.\n",
    "            figure (bool, optional): If `True`, a figure will be displayed showing the distribution of spots across the parts (default is `True`).\n",
    "            output_dir (str, optional): Directory where the output files will be saved (default is 'output_files').\n",
    "\n",
    "        Returns:\n",
    "            None: The function saves the updated AnnData objects as .h5ad files, generates a CSV file with the spots' part assignments, \n",
    "            and shows a figure if `figure=True`.\n",
    "\n",
    "        Notes:\n",
    "            - The parts are numbered from 0 to n*n-1. Part 0 contains the spots with the smallest x and y coordinates, part 1 contains the spots with the smallest x and the second smallest y coordinates, and so on.\n",
    "            - The function divides the spots evenly across the n*n grid based on their spatial coordinates.\n",
    "            - It checks whether all spots from the `input_pipeline` file are present in the `spatial_coords` dataset.\n",
    "            \n",
    "        Requirements:\n",
    "            - The function requires the following libraries to be installed: pandas, numpy, scanpy, matplotlib.\n",
    "    '''\n",
    "\n",
    "    # Create the output directory if it doesn't exist, and overwrite if it exists\n",
    "    if os.path.exists(output_dir):\n",
    "        # Remove existing files in the output directory before saving new ones\n",
    "        for filename in os.listdir(output_dir):\n",
    "            file_path = os.path.join(output_dir, filename)\n",
    "            if os.path.isfile(file_path):\n",
    "                os.remove(file_path)\n",
    "    else:\n",
    "        os.makedirs(output_dir)\n",
    "\n",
    "    # Load data\n",
    "    spatial_coords = pd.read_csv(spatial_coords, delimiter=',', names=['spot_id', 'tissue', 'x0', 'y0', 'x', 'y'])\n",
    "    input_pipeline = sc.read_h5ad(input_pipeline)\n",
    "    input_pipeline.obs['part'] = np.nan\n",
    "    print(input_pipeline.__dict__['_raw'])\n",
    "\n",
    "    # Check whether all spots in the input_pipeline file are present in the spatial_coords file\n",
    "    if not input_pipeline.obs.index.str[:-2].isin(spatial_coords['spot_id']).all():\n",
    "        print('Not all spots are present in the spatial_coords file')\n",
    "        return None\n",
    "    \n",
    "    # Filter the spatial_coords file to only include the spots present in the input_pipeline file\n",
    "    common_spots = input_pipeline.obs.index.str[:-2].intersection(spatial_coords.iloc[:,0])\n",
    "    spatial_coords_filtered = spatial_coords[spatial_coords['spot_id'].isin(common_spots)]\n",
    "\n",
    "    # Initialize part column with -1\n",
    "    count = 0\n",
    "\n",
    "    # Sort the spots by x and y coordinates\n",
    "    sorted_spots_x = spatial_coords_filtered.sort_values(['x0', 'y0'])\n",
    "\n",
    "    # Split the x and y coordinates into n equal parts\n",
    "    x_bins = np.array_split(sorted_spots_x, n, axis=0)\n",
    "\n",
    "    # Iterate through the bins to assign parts\n",
    "    for i in range(n):\n",
    "        x_subset = x_bins[i]\n",
    "\n",
    "        # Sort the subset by y and x for the next step\n",
    "        sorted_subset_y = x_subset.sort_values(['y', 'x'])\n",
    "        y_bins = np.array_split(sorted_subset_y, n, axis=0)\n",
    "\n",
    "        for j in range(n):            \n",
    "            # Get the spot ids that belong to this part\n",
    "            q = y_bins[j]['spot_id']\n",
    "\n",
    "            # Update the 'part' values in both input_pipeline and spatial_coords_filtered\n",
    "            input_pipeline.obs.loc[input_pipeline.obs.index.str[:-2].isin(q), 'part'] = count\n",
    "            spatial_coords_filtered.loc[spatial_coords_filtered['spot_id'].isin(q), 'part'] = count\n",
    "            count += 1\n",
    "\n",
    "    # Control whether all spots are assigned to a part\n",
    "    if sum(pd.isna(input_pipeline.obs['part'])) > 0:\n",
    "        print('Not all spots are assigned to a part')\n",
    "    else:\n",
    "        print('All spots are assigned to a part')\n",
    "\n",
    "    # Ensure the output directory exists\n",
    "    os.makedirs(output_dir, exist_ok=True)\n",
    "\n",
    "    # Write the updated AnnData object (AnnData object, containing the parts) to a .h5ad file\n",
    "    input_pipeline.__dict__['_raw'].__dict__['_var'] = input_pipeline.__dict__['_raw'].__dict__['_var'].rename(columns={'_index': 'features'})  # Needed otherwise there is a conflict\n",
    " \n",
    " \n",
    "    file_name2 = os.path.join(output_dir, \"updated_annData_obj.h5ad\")\n",
    "    print(type(input_pipeline))\n",
    "    input_pipeline.write(filename=file_name2)\n",
    "    print(f\"Saved updated AnnData object to {file_name2}\")\n",
    "\n",
    "    # Create a CSV file with the part each spot belongs to\n",
    "    df = pd.DataFrame(input_pipeline.obs['part'])\n",
    "    df.index = input_pipeline.obs['part'].index\n",
    "    csv_file = os.path.join(output_dir, \"spots_and_parts.csv\")\n",
    "    df.to_csv(csv_file)\n",
    "    print(f\"Saved the index of the spots in each part to {csv_file}\")\n",
    "\n",
    "    # Create a new AnnData object for each part\n",
    "    for part_value in sorted(input_pipeline.obs['part'].unique()):\n",
    "        part_data = input_pipeline[input_pipeline.obs['part'] == part_value]\n",
    "        part_data.obs = part_data.obs.drop(columns=[\"part\"])\n",
    "    \n",
    "        # Save each part as a separate .h5ad file\n",
    "        part_file_name = os.path.join(output_dir, f\"annData_part_{part_value}.h5ad\")\n",
    "        part_data.write(filename=part_file_name)\n",
    "        print(f\"Saved AnnData object for part {part_value} to {part_file_name}\")\n",
    "\n",
    "\n",
    "    if figure == True:\n",
    "        # Calculate the count for each part\n",
    "        part_counts = input_pipeline.obs['part'].value_counts()\n",
    "\n",
    "        # Create a figure and axis\n",
    "        fig, ax = plt.subplots(figsize=(10, 5))\n",
    "\n",
    "        # Create the bar plot\n",
    "        bars = ax.bar(sorted(part_counts.index.astype(str)), part_counts.values, color='salmon')\n",
    "\n",
    "        # Set labels and title\n",
    "        ax.set_xlabel('Part')\n",
    "        ax.set_ylabel('Number of spots')\n",
    "        ax.set_title('Distribution of spots across parts')\n",
    "        ax.set_xticks(sorted(part_counts.index.astype(int)))\n",
    "        ax.set_xticklabels(sorted(part_counts.index.astype(int)))\n",
    "\n",
    "        # Display the height of each bar\n",
    "        for bar in bars:\n",
    "            yval = bar.get_height()\n",
    "            ax.text(bar.get_x() + bar.get_width() / 2, yval + 0.05, str(int(yval)), ha='center', va='bottom')\n",
    "\n",
    "        # Show the plot\n",
    "        plt.show()\n",
    "\n",
    "    print(input_pipeline.obs['part'])\n",
    "\n",
    "    return None"
   ]
  },
  {
   "cell_type": "code",
   "execution_count": 14,
   "metadata": {},
   "outputs": [],
   "source": [
    "input_pipeline = 'liver_mouseVisium_JB01.h5ad'\n",
    "spatial_coords = 'GSM5764414_tissue_positions_list_JBO001.csv'\n",
    "n = 2"
   ]
  },
  {
   "cell_type": "code",
   "execution_count": 4,
   "metadata": {},
   "outputs": [
    {
     "name": "stdout",
     "output_type": "stream",
     "text": [
      "Raw AnnData with n_obs × n_vars = 1293 × 31053\n",
      "    var: '_index'\n",
      "All spots are assigned to a part\n",
      "<class 'anndata._core.anndata.AnnData'>\n"
     ]
    },
    {
     "name": "stderr",
     "output_type": "stream",
     "text": [
      "/home/sarah/anaconda3/envs/spatial_env/lib/python3.12/site-packages/numpy/core/fromnumeric.py:59: FutureWarning: 'DataFrame.swapaxes' is deprecated and will be removed in a future version. Please use 'DataFrame.transpose' instead.\n",
      "  return bound(*args, **kwds)\n",
      "/tmp/ipykernel_4143/1612246782.py:81: SettingWithCopyWarning: \n",
      "A value is trying to be set on a copy of a slice from a DataFrame.\n",
      "Try using .loc[row_indexer,col_indexer] = value instead\n",
      "\n",
      "See the caveats in the documentation: https://pandas.pydata.org/pandas-docs/stable/user_guide/indexing.html#returning-a-view-versus-a-copy\n",
      "  spatial_coords_filtered.loc[spatial_coords_filtered['spot_id'].isin(q), 'part'] = count\n",
      "/home/sarah/anaconda3/envs/spatial_env/lib/python3.12/site-packages/numpy/core/fromnumeric.py:59: FutureWarning: 'DataFrame.swapaxes' is deprecated and will be removed in a future version. Please use 'DataFrame.transpose' instead.\n",
      "  return bound(*args, **kwds)\n"
     ]
    },
    {
     "name": "stdout",
     "output_type": "stream",
     "text": [
      "Saved updated AnnData object to output_files/updated_annData_obj.h5ad\n",
      "Saved the index of the spots in each part to output_files/spots_and_parts.csv\n",
      "Saved AnnData object for part 0.0 to output_files/annData_part_0.0.h5ad\n",
      "Saved AnnData object for part 1.0 to output_files/annData_part_1.0.h5ad\n",
      "Saved AnnData object for part 2.0 to output_files/annData_part_2.0.h5ad\n",
      "Saved AnnData object for part 3.0 to output_files/annData_part_3.0.h5ad\n"
     ]
    },
    {
     "data": {
      "image/png": "[encoded data removed]",
      "text/plain": [
       "<Figure size 1000x500 with 1 Axes>"
      ]
     },
     "metadata": {},
     "output_type": "display_data"
    },
    {
     "name": "stdout",
     "output_type": "stream",
     "text": [
      "AAACACCAATAACTGC-1_1    2.0\n",
      "AAACATTTCCCGGATT-1_1    3.0\n",
      "AAACCCGAACGAAATC-1_1    1.0\n",
      "AAACCGGGTAGGTACC-1_1    0.0\n",
      "AAACCGTTCGTCCAGG-1_1    2.0\n",
      "                       ... \n",
      "TTGTGGTGGTACTAAG-1_1    3.0\n",
      "TTGTGTATGCCACCAA-1_1    2.0\n",
      "TTGTTGTGTGTCAAGA-1_1    1.0\n",
      "TTGTTTCATTAGTCTA-1_1    2.0\n",
      "TTGTTTCCATACAACT-1_1    0.0\n",
      "Name: part, Length: 1293, dtype: float64\n"
     ]
    }
   ],
   "source": [
    "split_tissue(input_pipeline,spatial_coords,n)\n"
   ]
  },
  {
   "cell_type": "code",
   "execution_count": null,
   "metadata": {},
   "outputs": [
    {
     "name": "stdout",
     "output_type": "stream",
     "text": [
      "AnnData object with n_obs × n_vars = 700 × 765\n",
      "    obs: 'bulk_labels', 'n_genes', 'percent_mito', 'n_counts', 'S_score', 'G2M_score', 'phase', 'louvain'\n",
      "    var: 'n_counts', 'means', 'dispersions', 'dispersions_norm', 'highly_variable'\n",
      "    uns: 'bulk_labels_colors', 'louvain', 'louvain_colors', 'neighbors', 'pca', 'rank_genes_groups'\n",
      "    obsm: 'X_pca', 'X_umap'\n",
      "    varm: 'PCs'\n",
      "    obsp: 'distances', 'connectivities'\n",
      "{'n_obs': 700,\n",
      " 'n_vars': 765,\n",
      " 'obs': ['bulk_labels',\n",
      "         'n_genes',\n",
      "         'percent_mito',\n",
      "         'n_counts',\n",
      "         'S_score',\n",
      "         'G2M_score',\n",
      "         'phase',\n",
      "         'louvain'],\n",
      " 'obsm': ['X_pca', 'X_umap'],\n",
      " 'obsp': ['distances', 'connectivities'],\n",
      " 'uns': ['bulk_labels_colors',\n",
      "         'louvain',\n",
      "         'louvain_colors',\n",
      "         'neighbors',\n",
      "         'pca',\n",
      "         'rank_genes_groups'],\n",
      " 'var': ['n_counts',\n",
      "         'means',\n",
      "         'dispersions',\n",
      "         'dispersions_norm',\n",
      "         'highly_variable'],\n",
      " 'varm': ['PCs']}\n"
     ]
    }
   ],
   "source": [
    "# comparison of annData objects\n",
    "import scanpy as sc\n",
    "import pprint\n",
    "\n",
    "\n",
    "def repr_dict(adata):\n",
    "    d = {}\n",
    "    for attr in (\n",
    "        \"n_obs\",\n",
    "        \"n_vars\",\n",
    "        \"obs\",\n",
    "        \"var\",\n",
    "        \"uns\",\n",
    "        \"obsm\",\n",
    "        \"varm\",\n",
    "        \"layers\",\n",
    "        \"obsp\",\n",
    "        \"varp\",\n",
    "    ):\n",
    "        got_attr = getattr(adata, attr)\n",
    "        if isinstance(got_attr, int):\n",
    "            d[attr] = got_attr\n",
    "        else:\n",
    "            keys = list(got_attr.keys())\n",
    "            if keys:\n",
    "                d[attr] = keys\n",
    "    return d\n"
   ]
  },
  {
   "cell_type": "code",
   "execution_count": 34,
   "metadata": {},
   "outputs": [],
   "source": [
    "#spatial_coords = pd.read_csv('GSM5764414_tissue_positions_list_JBO001.csv', delimiter=',', names=['spot_id', 'tissue', 'x0', 'y0', 'x', 'y'])\n",
    "input_pipeline = sc.read_h5ad('liver_mouseVisium_JB01.h5ad')\n",
    "output = sc.read_h5ad('annData_part_0.0.h5ad')\n",
    "updated = sc.read_h5ad('updated_annData_obj.h5ad')\n",
    "#print(input_pipeline)\n",
    "#print(output)\n",
    "#inp2 = sc.read_10x_h5('filtered_feature_bc_matrix.h5')"
   ]
  },
  {
   "cell_type": "code",
   "execution_count": 35,
   "metadata": {},
   "outputs": [
    {
     "name": "stdout",
     "output_type": "stream",
     "text": [
      "AnnData object with n_obs × n_vars = 1293 × 31053\n",
      "    obs: 'orig.ident', 'nCount_Spatial', 'nFeature_Spatial', 'UMAP_1', 'UMAP_2', 'sample', 'type', 'cluster', 'zonation', 'zonationGroup'\n",
      "    var: 'features'\n"
     ]
    }
   ],
   "source": [
    "print(input_pipeline)\n",
    "#print(output.X)\n",
    "#pprint.pprint(repr_dict(input_pipeline))"
   ]
  },
  {
   "cell_type": "code",
   "execution_count": 12,
   "metadata": {},
   "outputs": [
    {
     "name": "stdout",
     "output_type": "stream",
     "text": [
      "AnnData object with n_obs × n_vars = 1293 × 31053\n",
      "    obs: 'orig.ident', 'nCount_Spatial', 'nFeature_Spatial', 'UMAP_1', 'UMAP_2', 'sample', 'type', 'cluster', 'zonation', 'zonationGroup', 'part'\n",
      "    var: 'features'\n",
      "{'n_obs': 1293,\n",
      " 'n_vars': 31053,\n",
      " 'obs': ['orig.ident',\n",
      "         'nCount_Spatial',\n",
      "         'nFeature_Spatial',\n",
      "         'UMAP_1',\n",
      "         'UMAP_2',\n",
      "         'sample',\n",
      "         'type',\n",
      "         'cluster',\n",
      "         'zonation',\n",
      "         'zonationGroup',\n",
      "         'part'],\n",
      " 'var': ['features']}\n"
     ]
    }
   ],
   "source": [
    "print(updated)\n",
    "pprint.pprint(repr_dict(updated))"
   ]
  },
  {
   "cell_type": "code",
   "execution_count": null,
   "metadata": {},
   "outputs": [
    {
     "name": "stdout",
     "output_type": "stream",
     "text": [
      "Index(['orig.ident', 'nCount_Spatial', 'nFeature_Spatial', 'UMAP_1', 'UMAP_2',\n",
      "       'sample', 'type', 'cluster', 'zonation', 'zonationGroup'],\n",
      "      dtype='object')\n",
      "Index(['features'], dtype='object')\n",
      "odict_keys([])\n",
      "KeysView(Layers with keys: )\n",
      "(324, 31053)\n",
      "                      orig.ident  nCount_Spatial  nFeature_Spatial    UMAP_1  \\\n",
      "AAACCGGGTAGGTACC-1_1           0         46259.0              5326 -4.557705   \n",
      "AAACTGCTGGCTCCAA-1_1           0         35257.0              4742 -4.124313   \n",
      "AAATACCTATAAGCAT-1_1           0         33646.0              4848  0.615303   \n",
      "AAATCGTGTACCACAA-1_1           0         39464.0              5036  2.947431   \n",
      "AAATTAACGGGTAGCT-1_1           0         48521.0              5410 -2.084130   \n",
      "...                          ...             ...               ...       ...   \n",
      "TTGGACATGTGGCTTA-1_1           0         37471.0              4905 -3.179777   \n",
      "TTGGATATCGTCTACG-1_1           0         31205.0              4499 -3.949710   \n",
      "TTGGTCACACTCGTAA-1_1           0         32941.0              4715 -3.560335   \n",
      "TTGTAAGGACCTAAGT-1_1           0         35963.0              4875  0.293866   \n",
      "TTGTTTCCATACAACT-1_1           0         37880.0              5191  3.124140   \n",
      "\n",
      "                        UMAP_2 sample    type  cluster  zonation zonationGroup  \n",
      "AAACCGGGTAGGTACC-1_1 -0.507351   JBO1  tissue        0  0.298025    Periportal  \n",
      "AAACTGCTGGCTCCAA-1_1 -0.999489   JBO1  tissue        0  0.319425    Periportal  \n",
      "AAATACCTATAAGCAT-1_1  1.200130   JBO1  tissue        4  0.578852           Mid  \n",
      "AAATCGTGTACCACAA-1_1  0.149557   JBO1  tissue        3  0.672677           Mid  \n",
      "AAATTAACGGGTAGCT-1_1 -2.356219   JBO1  tissue        7  0.330768    Periportal  \n",
      "...                        ...    ...     ...      ...       ...           ...  \n",
      "TTGGACATGTGGCTTA-1_1 -1.560171   JBO1  tissue        6  0.320864    Periportal  \n",
      "TTGGATATCGTCTACG-1_1 -1.749193   JBO1  tissue        0  0.291206    Periportal  \n",
      "TTGGTCACACTCGTAA-1_1 -1.267368   JBO1  tissue        0  0.305518    Periportal  \n",
      "TTGTAAGGACCTAAGT-1_1  0.970047   JBO1  tissue        4  0.552765           Mid  \n",
      "TTGTTTCCATACAACT-1_1  1.111125   JBO1  tissue        3  0.754968           Mid  \n",
      "\n",
      "[324 rows x 10 columns]\n",
      "                      features\n",
      "Xkr4                      Xkr4\n",
      "Gm1992                  Gm1992\n",
      "Gm37381                Gm37381\n",
      "Rp1                        Rp1\n",
      "Sox17                    Sox17\n",
      "...                        ...\n",
      "AC168977.1          AC168977.1\n",
      "AC149090.1          AC149090.1\n",
      "CAAA01118383.1  CAAA01118383.1\n",
      "Vmn2r122              Vmn2r122\n",
      "CAAA01147332.1  CAAA01147332.1\n",
      "\n",
      "[31053 rows x 1 columns]\n",
      "  (0, 6)\t4.0\n",
      "  (0, 7)\t3.0\n",
      "  (0, 9)\t1.0\n",
      "  (0, 12)\t1.0\n",
      "  (0, 19)\t5.0\n",
      "  (0, 24)\t4.0\n",
      "  (0, 28)\t1.0\n",
      "  (0, 30)\t2.0\n",
      "  (0, 32)\t2.0\n",
      "  (0, 36)\t3.0\n",
      "  (0, 38)\t1.0\n",
      "  (0, 48)\t1.0\n",
      "  (0, 50)\t3.0\n",
      "  (0, 51)\t4.0\n",
      "  (0, 52)\t1.0\n",
      "  (0, 61)\t27.0\n",
      "  (0, 62)\t1.0\n",
      "  (0, 66)\t1.0\n",
      "  (0, 67)\t4.0\n",
      "  (0, 69)\t2.0\n",
      "  (0, 101)\t8.0\n",
      "  (0, 115)\t1.0\n",
      "  (0, 116)\t4.0\n",
      "  (0, 120)\t3.0\n",
      "  (0, 125)\t1.0\n",
      "  :\t:\n",
      "  (323, 30901)\t5.0\n",
      "  (323, 30902)\t1.0\n",
      "  (323, 30903)\t1.0\n",
      "  (323, 30906)\t7.0\n",
      "  (323, 30909)\t2.0\n",
      "  (323, 30914)\t1.0\n",
      "  (323, 30921)\t1.0\n",
      "  (323, 30923)\t1.0\n",
      "  (323, 30925)\t2.0\n",
      "  (323, 30939)\t2.0\n",
      "  (323, 30951)\t1.0\n",
      "  (323, 30953)\t3.0\n",
      "  (323, 30956)\t3.0\n",
      "  (323, 30958)\t1.0\n",
      "  (323, 30963)\t14.0\n",
      "  (323, 30964)\t34.0\n",
      "  (323, 30965)\t148.0\n",
      "  (323, 30966)\t29.0\n",
      "  (323, 30968)\t70.0\n",
      "  (323, 30969)\t98.0\n",
      "  (323, 30970)\t3.0\n",
      "  (323, 30972)\t30.0\n",
      "  (323, 30973)\t1.0\n",
      "  (323, 30975)\t86.0\n",
      "  (323, 31049)\t1.0\n",
      "Raw AnnData with n_obs × n_vars = 324 × 31053\n",
      "    var: 'features'\n",
      "Layers with keys: \n",
      "AxisArrays with keys: \n",
      "OrderedDict()\n"
     ]
    }
   ],
   "source": [
    "print(output.obs.columns)  # Alle kolommen in de cellenmetadata\n",
    "print(output.var.columns)  # Alle kolommen in de genenmetadata\n",
    "print(output.uns.keys())  # Ongeordende metadata\n",
    "print(output.layers.keys())  # Beschikbare lagen met expressiewaarden\n",
    "\n",
    "bdata =  output\n",
    "\n",
    "\n"
   ]
  },
  {
   "cell_type": "code",
   "execution_count": null,
   "metadata": {},
   "outputs": [
    {
     "name": "stdout",
     "output_type": "stream",
     "text": [
      "Raw AnnData with n_obs × n_vars = 1293 × 31053\n",
      "    var: '_index'\n",
      "Raw AnnData with n_obs × n_vars = 324 × 31053\n",
      "    var: 'features'\n"
     ]
    }
   ],
   "source": [
    "#print(input_pipeline.obs.columns)  # Alle kolommen in de cellenmetadata\n",
    "#print(input_pipeline.var.columns)  # Alle kolommen in de genenmetadata\n",
    "#print(input_pipeline.uns.keys())  # Ongeordende metadata\n",
    "#print(input_pipeline.layers.keys())  # Beschikbare lagen met expressiewaarden\n",
    "\n",
    "adata = input_pipeline\n",
    "\n",
    "#print(adata.shape) # (aantal cellen, aantal genen)\n",
    "#print(bdata.shape) # (aantal cellen, aantal genen)\n",
    "#print(adata.obs ) # Metadata over de cellen (pandas DataFrame)\n",
    "#print(bdata.obs ) # Metadata over de cellen (pandas DataFrame)\n",
    "#print(adata.var)  # Metadata over de genen (pandas DataFrame)\n",
    "#print(bdata.var)  # Metadata over de genen (pandas DataFrame)\n",
    "#print(adata.X)  # De expressiematrix (meestal een NumPy-array of sparse matrix)\n",
    "#print('-'*50)\n",
    "#print(bdata.X)  # De expressiematrix (meestal een NumPy-array of sparse matrix)\n",
    "print(adata.raw)  # Ruwe expressiewaarden (indien aanwezig)  => hier zit de fout\n",
    "print(bdata.raw)  # Ruwe expressiewaarden (indien aanwezig)\n",
    "#print(adata.layers)  # Verschillende datalagen (bv. genormaliseerde vs ruwe data)\n",
    "#print(bdata.layers)  # Verschillende datalagen (bv. genormaliseerde vs ruwe data)\n",
    "#print(adata.obsm)  # Lage-dimensionale representaties (bv. PCA, UMAP)\n",
    "#print(bdata.obsm)  # Lage-dimensionale representaties (bv. PCA, UMAP)\n",
    "#print(adata.uns)  # Niet-gestructureerde metadata (bv. clusteringresultaten)\n",
    "#print(bdata.uns)  # Niet-gestructureerde metadata (bv. clusteringresultaten)\n",
    "\n",
    "print(adata.raw)  # Ruwe expressiewaarden (indien aanwezig)  => hier zit de fout (original)\n",
    "print(bdata.raw) #updated"
   ]
  },
  {
   "cell_type": "code",
   "execution_count": 4,
   "metadata": {},
   "outputs": [],
   "source": [
    "input_pipeline_a = 'filtered_feature_bc_matrix.h5'\n",
    "spatial_coords_a = 'tissue-positions.csv'"
   ]
  },
  {
   "cell_type": "code",
   "execution_count": null,
   "metadata": {},
   "outputs": [],
   "source": [
    "def split_tissue(input_pipeline_a, spatial_coords_a, n, figure=True, output_dir='output_files'):\n",
    "    ''' \n",
    "        Splits tissue samples into a grid of n*n parts based on the spatial coordinates of the spots. \n",
    "        This function generates n*n AnnData objects, an updated AnnData object with assigned parts, a CSV file containing the spots in each part, and optionally a figure showing the distribution of spots across the parts.\n",
    "\n",
    "        Args:\n",
    "            input_pipeline (str): File path to an AnnData object stored in .h5ad format or .h5 format, containing data for the spots.\n",
    "            spatial_coords (str): File path to a CSV file with 6 columns: 'spot_id', 'tissue', 'x0', 'y0', 'x', 'y', which define the spatial coordinates of the spots.\n",
    "            n (int): The number of divisions per dimension, with the tissue being split into an n*n grid of parts.\n",
    "            figure (bool, optional): If `True`, a figure will be displayed showing the distribution of spots across the parts (default is `True`).\n",
    "            output_dir (str, optional): Directory where the output files will be saved (default is 'output_files').\n",
    "\n",
    "        Returns:\n",
    "            None: The function saves the updated AnnData objects as .h5ad files, generates a CSV file with the spots' part assignments, \n",
    "            and shows a figure if `figure=True`.\n",
    "\n",
    "        Notes:\n",
    "            - The parts are numbered from 0 to n*n-1. Part 0 contains the spots with the smallest x and y coordinates, part 1 contains the spots with the smallest x and the second smallest y coordinates, and so on.\n",
    "            - The function divides the spots evenly across the n*n grid based on their spatial coordinates.\n",
    "            - It checks whether all spots from the `input_pipeline` file are present in the `spatial_coords` dataset.\n",
    "            \n",
    "        Requirements:\n",
    "            - The function requires the following libraries to be installed: pandas, numpy, scanpy, matplotlib.\n",
    "    '''\n",
    "\n",
    "    # Create the output directory if it doesn't exist, and overwrite if it exists\n",
    "    if os.path.exists(output_dir):\n",
    "        # Remove existing files in the output directory before saving new ones\n",
    "        for filename in os.listdir(output_dir):\n",
    "            file_path = os.path.join(output_dir, filename)\n",
    "            if os.path.isfile(file_path):\n",
    "                os.remove(file_path)\n",
    "    else:\n",
    "        os.makedirs(output_dir)\n",
    "\n",
    "    # Load data\n",
    "    spatial_coords = pd.read_csv(spatial_coords_a, delimiter=',', names=['spot_id', 'tissue', 'x0', 'y0', 'x', 'y'])\n",
    "    if input_pipeline_a.endswith('.h5ad'):\n",
    "        input_pipeline = sc.read_h5ad(input_pipeline_a)\n",
    "    elif input_pipeline_a.endswith('.h5'):\n",
    "        input_pipeline = sc.read_10x_h5(input_pipeline_a)\n",
    "    else:\n",
    "        print('Invalid file format for input_pipeline')\n",
    "        return None\n",
    "    input_pipeline.obs['part'] = np.nan\n",
    "\n",
    "    # Check whether all spots in the input_pipeline file are present in the spatial_coords file\n",
    "    if input_pipeline_a.endswith('.h5ad'):\n",
    "        if not input_pipeline.obs.index.str[:-2].isin(spatial_coords['spot_id']).all():\n",
    "            print('Not all spots are present in the spatial_coords file')\n",
    "            return None\n",
    "    else:\n",
    "        if not input_pipeline.obs.index.isin(spatial_coords['spot_id']).all():\n",
    "            print('Not all spots are present in the spatial_coords file')\n",
    "            return None\n",
    "    \n",
    "    # Filter the spatial_coords file to only include the spots present in the input_pipeline file\n",
    "    if input_pipeline_a.endswith('.h5ad'):\n",
    "        common_spots = input_pipeline.obs.index.str[:-2].intersection(spatial_coords.iloc[:,0])\n",
    "    else:\n",
    "        common_spots = input_pipeline.obs.index.intersection(spatial_coords.iloc[:,0])\n",
    "    spatial_coords_filtered = spatial_coords[spatial_coords['spot_id'].isin(common_spots)]\n",
    "\n",
    "    # Initialize part column with -1\n",
    "    count = 0\n",
    "\n",
    "    # Sort the spots by x and y coordinates\n",
    "    sorted_spots_x = spatial_coords_filtered.sort_values(['x0', 'y0'])\n",
    "\n",
    "    # Split the x and y coordinates into n equal parts\n",
    "    x_bins = np.array_split(sorted_spots_x, n, axis=0)\n",
    "\n",
    "    # Iterate through the bins to assign parts\n",
    "    for i in range(n):\n",
    "        x_subset = x_bins[i]\n",
    "\n",
    "        # Sort the subset by y and x for the next step\n",
    "        sorted_subset_y = x_subset.sort_values(['y', 'x'])\n",
    "        y_bins = np.array_split(sorted_subset_y, n, axis=0)\n",
    "\n",
    "        for j in range(n):            \n",
    "            # Get the spot ids that belong to this part\n",
    "            q = y_bins[j]['spot_id']\n",
    "\n",
    "            # Update the 'part' values in both input_pipeline and spatial_coords_filtered\n",
    "            if input_pipeline_a.endswith('.h5ad'):\n",
    "                input_pipeline.obs.loc[input_pipeline.obs.index.str[:-2].isin(q), 'part'] = count\n",
    "            else:\n",
    "                input_pipeline.obs.loc[input_pipeline.obs.index.isin(q), 'part'] = count\n",
    "            spatial_coords_filtered.loc[spatial_coords_filtered['spot_id'].isin(q), 'part'] = count\n",
    "            count += 1\n",
    "\n",
    "    # Control whether all spots are assigned to a part\n",
    "    if sum(pd.isna(input_pipeline.obs['part'])) > 0:\n",
    "        print('Not all spots are assigned to a part')\n",
    "    else:\n",
    "        print('All spots are assigned to a part')\n",
    "\n",
    "    # Ensure the output directory exists\n",
    "    os.makedirs(output_dir, exist_ok=True)\n",
    "\n",
    "    # Write the updated AnnData object (AnnData object, containing the parts) to a .h5ad file\n",
    "    if input_pipeline_a.endswith('.h5ad'):\n",
    "        input_pipeline.__dict__['_raw'].__dict__['_var'] = input_pipeline.__dict__['_raw'].__dict__['_var'].rename(columns={'_index': 'features'})\n",
    "    \n",
    "    output_file = \"updated_file.h5ad\"\n",
    "    file_name2 = os.path.join(output_dir, \"updated_annData_obj.h5ad\")\n",
    "    input_pipeline.write(filename=file_name2)\n",
    "    print(f\"Saved updated AnnData object to {file_name2}\")\n",
    "\n",
    "    # Create a CSV file with the part each spot belongs to\n",
    "    df = pd.DataFrame(input_pipeline.obs['part'])\n",
    "    df.index = input_pipeline.obs['part'].index\n",
    "    csv_file = os.path.join(output_dir, \"spots_and_parts.csv\")\n",
    "    df.to_csv(csv_file)\n",
    "    print(f\"Saved the index of the spots in each part to {csv_file}\")\n",
    "\n",
    "    # Create a new AnnData object for each part\n",
    "    for part_value in sorted(input_pipeline.obs['part'].unique()):\n",
    "        part_data = input_pipeline[input_pipeline.obs['part'] == part_value]\n",
    "        part_data.obs = part_data.obs.drop(columns=[\"part\"])\n",
    "    \n",
    "        # Save each part as a separate .h5ad file\n",
    "        part_file_name = os.path.join(output_dir, f\"annData_part_{int(part_value)}.h5ad\")\n",
    "        part_data.write(filename=part_file_name)\n",
    "        print(f\"Saved AnnData object for part {part_value} to {part_file_name}\")\n",
    "\n",
    "\n",
    "    if figure == True:\n",
    "        # Calculate the count for each part\n",
    "        part_counts = input_pipeline.obs['part'].value_counts()\n",
    "\n",
    "        # Create a figure and axis\n",
    "        fig, ax = plt.subplots(figsize=(10, 5))\n",
    "\n",
    "        # Create the bar plot\n",
    "        bars = ax.bar(sorted(part_counts.index.astype(str)), part_counts.values, color='salmon')\n",
    "\n",
    "        # Set labels and title\n",
    "        ax.set_xlabel('Part')\n",
    "        ax.set_ylabel('Number of spots')\n",
    "        ax.set_title('Distribution of spots across parts')\n",
    "        ax.set_xticks(sorted(part_counts.index.astype(int)))\n",
    "        ax.set_xticklabels(sorted(part_counts.index.astype(int)))\n",
    "\n",
    "        # Display the height of each bar\n",
    "        for bar in bars:\n",
    "            yval = bar.get_height()\n",
    "            ax.text(bar.get_x() + bar.get_width() / 2, yval + 0.05, str(int(yval)), ha='center', va='bottom')\n",
    "\n",
    "        # Save the figure\n",
    "        plt.savefig(\"distribution_plot.png\", dpi=300, bbox_inches='tight')\n",
    "\n",
    "    return None"
   ]
  },
  {
   "cell_type": "code",
   "execution_count": 8,
   "metadata": {},
   "outputs": [
    {
     "name": "stderr",
     "output_type": "stream",
     "text": [
      "/tmp/ipykernel_11984/3846705391.py:37: DtypeWarning: Columns (1,2,3,4,5) have mixed types. Specify dtype option on import or set low_memory=False.\n",
      "  spatial_coords = pd.read_csv(spatial_coords_a, delimiter=',', names=['spot_id', 'tissue', 'x0', 'y0', 'x', 'y'])\n",
      "/home/sarah/anaconda3/envs/spatial_env/lib/python3.12/site-packages/anndata/_core/anndata.py:1758: UserWarning: Variable names are not unique. To make them unique, call `.var_names_make_unique`.\n",
      "  utils.warn_names_duplicates(\"var\")\n",
      "/home/sarah/anaconda3/envs/spatial_env/lib/python3.12/site-packages/anndata/_core/anndata.py:1758: UserWarning: Variable names are not unique. To make them unique, call `.var_names_make_unique`.\n",
      "  utils.warn_names_duplicates(\"var\")\n",
      "/home/sarah/anaconda3/envs/spatial_env/lib/python3.12/site-packages/numpy/core/fromnumeric.py:59: FutureWarning: 'DataFrame.swapaxes' is deprecated and will be removed in a future version. Please use 'DataFrame.transpose' instead.\n",
      "  return bound(*args, **kwds)\n",
      "/home/sarah/anaconda3/envs/spatial_env/lib/python3.12/site-packages/numpy/core/fromnumeric.py:59: FutureWarning: 'DataFrame.swapaxes' is deprecated and will be removed in a future version. Please use 'DataFrame.transpose' instead.\n",
      "  return bound(*args, **kwds)\n",
      "/tmp/ipykernel_11984/3846705391.py:90: SettingWithCopyWarning: \n",
      "A value is trying to be set on a copy of a slice from a DataFrame.\n",
      "Try using .loc[row_indexer,col_indexer] = value instead\n",
      "\n",
      "See the caveats in the documentation: https://pandas.pydata.org/pandas-docs/stable/user_guide/indexing.html#returning-a-view-versus-a-copy\n",
      "  spatial_coords_filtered.loc[spatial_coords_filtered['spot_id'].isin(q), 'part'] = count\n",
      "/home/sarah/anaconda3/envs/spatial_env/lib/python3.12/site-packages/numpy/core/fromnumeric.py:59: FutureWarning: 'DataFrame.swapaxes' is deprecated and will be removed in a future version. Please use 'DataFrame.transpose' instead.\n",
      "  return bound(*args, **kwds)\n"
     ]
    },
    {
     "name": "stdout",
     "output_type": "stream",
     "text": [
      "All spots are assigned to a part\n",
      "Saved updated AnnData object to output_files/updated_annData_obj.h5ad\n",
      "Saved the index of the spots in each part to output_files/spots_and_parts.csv\n",
      "0.0\n"
     ]
    },
    {
     "name": "stderr",
     "output_type": "stream",
     "text": [
      "/home/sarah/anaconda3/envs/spatial_env/lib/python3.12/site-packages/anndata/_core/anndata.py:1758: UserWarning: Variable names are not unique. To make them unique, call `.var_names_make_unique`.\n",
      "  utils.warn_names_duplicates(\"var\")\n"
     ]
    },
    {
     "name": "stdout",
     "output_type": "stream",
     "text": [
      "Saved AnnData object for part 0.0 to output_files/annData_part_0.0.h5ad\n",
      "1.0\n"
     ]
    },
    {
     "name": "stderr",
     "output_type": "stream",
     "text": [
      "/home/sarah/anaconda3/envs/spatial_env/lib/python3.12/site-packages/anndata/_core/anndata.py:1758: UserWarning: Variable names are not unique. To make them unique, call `.var_names_make_unique`.\n",
      "  utils.warn_names_duplicates(\"var\")\n"
     ]
    },
    {
     "name": "stdout",
     "output_type": "stream",
     "text": [
      "Saved AnnData object for part 1.0 to output_files/annData_part_1.0.h5ad\n",
      "2.0\n"
     ]
    },
    {
     "name": "stderr",
     "output_type": "stream",
     "text": [
      "/home/sarah/anaconda3/envs/spatial_env/lib/python3.12/site-packages/anndata/_core/anndata.py:1758: UserWarning: Variable names are not unique. To make them unique, call `.var_names_make_unique`.\n",
      "  utils.warn_names_duplicates(\"var\")\n"
     ]
    },
    {
     "name": "stdout",
     "output_type": "stream",
     "text": [
      "Saved AnnData object for part 2.0 to output_files/annData_part_2.0.h5ad\n",
      "3.0\n"
     ]
    },
    {
     "name": "stderr",
     "output_type": "stream",
     "text": [
      "/home/sarah/anaconda3/envs/spatial_env/lib/python3.12/site-packages/anndata/_core/anndata.py:1758: UserWarning: Variable names are not unique. To make them unique, call `.var_names_make_unique`.\n",
      "  utils.warn_names_duplicates(\"var\")\n"
     ]
    },
    {
     "name": "stdout",
     "output_type": "stream",
     "text": [
      "Saved AnnData object for part 3.0 to output_files/annData_part_3.0.h5ad\n"
     ]
    },
    {
     "data": {
      "image/png": "[encoded data removed]",
      "text/plain": [
       "<Figure size 1000x500 with 1 Axes>"
      ]
     },
     "metadata": {},
     "output_type": "display_data"
    }
   ],
   "source": [
    "split_tissue(input_pipeline_a,spatial_coords_a,2)"
   ]
  },
  {
   "cell_type": "code",
   "execution_count": 21,
   "metadata": {},
   "outputs": [
    {
     "name": "stderr",
     "output_type": "stream",
     "text": [
      "/home/sarah/anaconda3/envs/spatial_env/lib/python3.12/site-packages/anndata/_core/anndata.py:1758: UserWarning: Variable names are not unique. To make them unique, call `.var_names_make_unique`.\n",
      "  utils.warn_names_duplicates(\"var\")\n"
     ]
    },
    {
     "name": "stdout",
     "output_type": "stream",
     "text": [
      "object\n"
     ]
    },
    {
     "name": "stderr",
     "output_type": "stream",
     "text": [
      "/home/sarah/anaconda3/envs/spatial_env/lib/python3.12/site-packages/anndata/_core/anndata.py:1758: UserWarning: Variable names are not unique. To make them unique, call `.var_names_make_unique`.\n",
      "  utils.warn_names_duplicates(\"var\")\n"
     ]
    }
   ],
   "source": [
    "input_pipeline = sc.read_10x_h5(input_pipeline_a)\n",
    "print(input_pipeline.obs.index.dtype)"
   ]
  },
  {
   "cell_type": "code",
   "execution_count": null,
   "metadata": {},
   "outputs": [],
   "source": []
  },
  {
   "cell_type": "code",
   "execution_count": 32,
   "metadata": {},
   "outputs": [
    {
     "name": "stdout",
     "output_type": "stream",
     "text": [
      "Index(['s_016um_00052_00082-1', 's_016um_00163_00399-1',\n",
      "       's_016um_00238_00388-1', 's_016um_00144_00175-1',\n",
      "       's_016um_00297_00147-1', 's_016um_00252_00390-1',\n",
      "       's_016um_00225_00065-1', 's_016um_00036_00081-1',\n",
      "       's_016um_00188_00060-1', 's_016um_00135_00034-1',\n",
      "       ...\n",
      "       's_016um_00297_00243-1', 's_016um_00267_00226-1',\n",
      "       's_016um_00267_00377-1', 's_016um_00231_00291-1',\n",
      "       's_016um_00202_00345-1', 's_016um_00212_00331-1',\n",
      "       's_016um_00288_00288-1', 's_016um_00193_00227-1',\n",
      "       's_016um_00109_00223-1', 's_016um_00144_00329-1'],\n",
      "      dtype='object', length=115975)\n"
     ]
    },
    {
     "ename": "AttributeError",
     "evalue": "'AnnData' object has no attribute '_dict_'",
     "output_type": "error",
     "traceback": [
      "\u001b[0;31m---------------------------------------------------------------------------\u001b[0m",
      "\u001b[0;31mAttributeError\u001b[0m                            Traceback (most recent call last)",
      "Cell \u001b[0;32mIn[32], line 2\u001b[0m\n\u001b[1;32m      1\u001b[0m \u001b[38;5;28mprint\u001b[39m(input_pipeline\u001b[38;5;241m.\u001b[39mobs\u001b[38;5;241m.\u001b[39mindex\u001b[38;5;241m.\u001b[39munique())\n\u001b[0;32m----> 2\u001b[0m \u001b[38;5;28mprint\u001b[39m(input_pipeline\u001b[38;5;241m.\u001b[39m_dict_)\n",
      "\u001b[0;31mAttributeError\u001b[0m: 'AnnData' object has no attribute '_dict_'"
     ]
    }
   ],
   "source": [
    "print(input_pipeline.obs.index.unique())\n",
    "print(input_pipeline._dict_)"
   ]
  }
 ],
 "metadata": {
  "kernelspec": {
   "display_name": "spatial_env",
   "language": "python",
   "name": "python3"
  },
  "language_info": {
   "codemirror_mode": {
    "name": "ipython",
    "version": 3
   },
   "file_extension": ".py",
   "mimetype": "text/x-python",
   "name": "python",
   "nbconvert_exporter": "python",
   "pygments_lexer": "ipython3",
   "version": "3.12.7"
  }
 },
 "nbformat": 4,
 "nbformat_minor": 2
}
